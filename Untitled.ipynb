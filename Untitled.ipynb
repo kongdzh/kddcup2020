{
 "cells": [
  {
   "cell_type": "code",
   "execution_count": 1,
   "metadata": {},
   "outputs": [],
   "source": [
    "from IPython.core.interactiveshell import InteractiveShell\n",
    "InteractiveShell.ast_node_interactivity = \"all\" "
   ]
  },
  {
   "cell_type": "code",
   "execution_count": 2,
   "metadata": {},
   "outputs": [],
   "source": [
    "import pandas as pd\n",
    "import numpy as np"
   ]
  },
  {
   "cell_type": "code",
   "execution_count": 3,
   "metadata": {},
   "outputs": [],
   "source": [
    "pd.set_option('precision', 10)"
   ]
  },
  {
   "cell_type": "code",
   "execution_count": 4,
   "metadata": {},
   "outputs": [],
   "source": [
    "BASE_DIR = '../../data/kddcup2020'\n",
    "TRAIN_DIR = BASE_DIR + '/underexpose_train'\n",
    "TEST_DIR = BASE_DIR + '/underexpose_test/underexpose_test_click-{}'\n",
    "NEW_TRAIN_DIR = BASE_DIR + '/new_underexpose_train'\n",
    "NEW_TEST_DIR = BASE_DIR + '/new_underexpose_test/new_underexpose_test_click-{}'"
   ]
  },
  {
   "cell_type": "code",
   "execution_count": 5,
   "metadata": {},
   "outputs": [
    {
     "output_type": "stream",
     "name": "stdout",
     "text": "phase-0 train set shape:  (241784, 3)\nphase-0 test set shape:  (21216, 3)\nphase-0 新的预测样本shape:  (1663, 3)\nphase-0 测试样本前缀序列shape:  (19553, 3)\nphase-0 比预测数据时间大的数据shape:  (0, 4)\nphase-1 train set shape:  (242132, 3)\nphase-1 test set shape:  (24465, 3)\nphase-1 新的预测样本shape:  (1726, 3)\nphase-1 测试样本前缀序列shape:  (22739, 3)\nphase-1 比预测数据时间大的数据shape:  (0, 4)\nphase-2 train set shape:  (243569, 3)\nphase-2 test set shape:  (22745, 3)\nphase-2 新的预测样本shape:  (1690, 3)\nphase-2 测试样本前缀序列shape:  (21055, 3)\nphase-2 比预测数据时间大的数据shape:  (0, 4)\nphase-3 train set shape:  (264263, 3)\nphase-3 test set shape:  (24021, 3)\nphase-3 新的预测样本shape:  (1675, 3)\nphase-3 测试样本前缀序列shape:  (22346, 3)\nphase-3 比预测数据时间大的数据shape:  (0, 4)\nphase-4 train set shape:  (266994, 3)\nphase-4 test set shape:  (26386, 3)\nphase-4 新的预测样本shape:  (1708, 3)\nphase-4 测试样本前缀序列shape:  (24678, 3)\nphase-4 比预测数据时间大的数据shape:  (0, 4)\nphase-5 train set shape:  (287523, 3)\nphase-5 test set shape:  (27653, 3)\nphase-5 新的预测样本shape:  (1801, 3)\nphase-5 测试样本前缀序列shape:  (25852, 3)\nphase-5 比预测数据时间大的数据shape:  (0, 4)\nphase-6 train set shape:  (310372, 3)\nphase-6 test set shape:  (28788, 3)\nphase-6 新的预测样本shape:  (1822, 3)\nphase-6 测试样本前缀序列shape:  (26966, 3)\nphase-6 比预测数据时间大的数据shape:  (0, 4)\nphase-7 train set shape:  (273594, 3)\nphase-7 test set shape:  (27355, 3)\nphase-7 新的预测样本shape:  (1797, 3)\nphase-7 测试样本前缀序列shape:  (25558, 3)\nphase-7 比预测数据时间大的数据shape:  (0, 4)\nphase-8 train set shape:  (268777, 3)\nphase-8 test set shape:  (25869, 3)\nphase-8 新的预测样本shape:  (1819, 3)\nphase-8 测试样本前缀序列shape:  (24050, 3)\nphase-8 比预测数据时间大的数据shape:  (0, 4)\nphase-9 train set shape:  (259992, 3)\nphase-9 test set shape:  (23348, 3)\nphase-9 新的预测样本shape:  (1752, 3)\nphase-9 测试样本前缀序列shape:  (21596, 3)\nphase-9 比预测数据时间大的数据shape:  (0, 4)\n"
    }
   ],
   "source": [
    "for t in range(10):\n",
    "    df_train = pd.read_csv(TRAIN_DIR + '/underexpose_train_click-{}.csv'.format(t), names=['user_id', 'item_id', 'time'])\n",
    "    df_test = pd.read_csv((TEST_DIR + '/underexpose_test_click-{}.csv').format(t, t), names=['user_id', 'item_id', 'time'])\n",
    "    print('phase-{} train set shape: '.format(t), df_train.shape)\n",
    "    print('phase-{} test set shape: '.format(t), df_test.shape)\n",
    "\n",
    "    df_test_latest_ = df_test.groupby('user_id')['time'].max().reset_index()\n",
    "    df_test_latest = df_test.merge(df_test_latest_, on=['user_id', 'time'], how='inner')\n",
    "    print('phase-{} 新的预测样本shape: '.format(t), df_test_latest.shape)\n",
    "\n",
    "    # 测试样本给定的前缀序列\n",
    "    df_tmp = df_test_latest.copy()\n",
    "    df_tmp['remove'] = 'remove'\n",
    "    df_test_left = df_test.merge(df_tmp, on=['user_id', 'item_id', 'time'], how='left')\n",
    "    df_test_left = df_test_left[df_test_left['remove'] != 'remove'].copy()\n",
    "    df_test_left.drop(['remove'], axis=1, inplace=True)\n",
    "    print('phase-{} 测试样本前缀序列shape: '.format(t), df_test_left.shape)\n",
    "\n",
    "    # 训练样本剔除比预测样本时间早的数据\n",
    "    df_train_tmp = df_train.merge(df_test_latest[['user_id', 'time']], on=['user_id'], how='left')\n",
    "    df_train_tmp.dropna(subset=['time_y'], inplace=True)\n",
    "    print('phase-{} 比预测数据时间大的数据shape: '.format(t), df_train_tmp.shape)\n",
    "    if df_train_tmp.shape[0] != 0:\n",
    "        time_index = df_train_tmp['time_x'] > df_train_tmp['time_y']\n",
    "        df_train_tmp['remove'] = time_index\n",
    "        df_train = df_train_tmp[df_train_tmp['remove'] == False][['user_id', 'item_id', 'time_x']]\n",
    "        df_train.columns = ['user_id', 'item_id', 'time']\n",
    "\n",
    "    df_train.to_csv(NEW_TRAIN_DIR + '/new_underexpose_train_click-{}.csv'.format(t), header=False, index=False)\n",
    "    df_test_left.to_csv((NEW_TEST_DIR + '/new_underexpose_test_click-{}.csv').format(t, t), header=False, index=False)\n",
    "    df_test_latest.to_csv((NEW_TEST_DIR + '/new_underexpose_test_qtime-{}.csv').format(t, t), header=False, index=False)\n",
    "    print()"
   ]
  },
  {
   "cell_type": "code",
   "execution_count": 10,
   "metadata": {},
   "outputs": [
    {
     "output_type": "execute_result",
     "data": {
      "text/plain": "(241784, 3)"
     },
     "metadata": {},
     "execution_count": 10
    },
    {
     "output_type": "execute_result",
     "data": {
      "text/plain": "(21216, 3)"
     },
     "metadata": {},
     "execution_count": 10
    }
   ],
   "source": []
  },
  {
   "cell_type": "code",
   "execution_count": 5,
   "metadata": {},
   "outputs": [
    {
     "data": {
      "text/html": [
       "<div>\n",
       "<style scoped>\n",
       "    .dataframe tbody tr th:only-of-type {\n",
       "        vertical-align: middle;\n",
       "    }\n",
       "\n",
       "    .dataframe tbody tr th {\n",
       "        vertical-align: top;\n",
       "    }\n",
       "\n",
       "    .dataframe thead th {\n",
       "        text-align: right;\n",
       "    }\n",
       "</style>\n",
       "<table border=\"1\" class=\"dataframe\">\n",
       "  <thead>\n",
       "    <tr style=\"text-align: right;\">\n",
       "      <th></th>\n",
       "      <th>user_id</th>\n",
       "      <th>item_id</th>\n",
       "      <th>time</th>\n",
       "    </tr>\n",
       "  </thead>\n",
       "  <tbody>\n",
       "    <tr>\n",
       "      <th>0</th>\n",
       "      <td>4965</td>\n",
       "      <td>18</td>\n",
       "      <td>0.983763</td>\n",
       "    </tr>\n",
       "    <tr>\n",
       "      <th>1</th>\n",
       "      <td>20192</td>\n",
       "      <td>34</td>\n",
       "      <td>0.983772</td>\n",
       "    </tr>\n",
       "    <tr>\n",
       "      <th>2</th>\n",
       "      <td>30128</td>\n",
       "      <td>91</td>\n",
       "      <td>0.983780</td>\n",
       "    </tr>\n",
       "    <tr>\n",
       "      <th>3</th>\n",
       "      <td>29473</td>\n",
       "      <td>189</td>\n",
       "      <td>0.983930</td>\n",
       "    </tr>\n",
       "    <tr>\n",
       "      <th>4</th>\n",
       "      <td>10625</td>\n",
       "      <td>225</td>\n",
       "      <td>0.983925</td>\n",
       "    </tr>\n",
       "  </tbody>\n",
       "</table>\n",
       "</div>"
      ],
      "text/plain": [
       "   user_id  item_id      time\n",
       "0     4965       18  0.983763\n",
       "1    20192       34  0.983772\n",
       "2    30128       91  0.983780\n",
       "3    29473      189  0.983930\n",
       "4    10625      225  0.983925"
      ]
     },
     "execution_count": 5,
     "metadata": {},
     "output_type": "execute_result"
    }
   ],
   "source": [
    "df_train.head()"
   ]
  },
  {
   "cell_type": "code",
   "execution_count": 4,
   "metadata": {},
   "outputs": [
    {
     "data": {
      "text/plain": [
       "(21216, 3)"
      ]
     },
     "execution_count": 4,
     "metadata": {},
     "output_type": "execute_result"
    }
   ],
   "source": [
    "df_test.shape"
   ]
  },
  {
   "cell_type": "code",
   "execution_count": 6,
   "metadata": {},
   "outputs": [
    {
     "data": {
      "text/html": [
       "<div>\n",
       "<style scoped>\n",
       "    .dataframe tbody tr th:only-of-type {\n",
       "        vertical-align: middle;\n",
       "    }\n",
       "\n",
       "    .dataframe tbody tr th {\n",
       "        vertical-align: top;\n",
       "    }\n",
       "\n",
       "    .dataframe thead th {\n",
       "        text-align: right;\n",
       "    }\n",
       "</style>\n",
       "<table border=\"1\" class=\"dataframe\">\n",
       "  <thead>\n",
       "    <tr style=\"text-align: right;\">\n",
       "      <th></th>\n",
       "      <th>user_id</th>\n",
       "      <th>item_id</th>\n",
       "      <th>time</th>\n",
       "    </tr>\n",
       "  </thead>\n",
       "  <tbody>\n",
       "    <tr>\n",
       "      <th>0</th>\n",
       "      <td>1133</td>\n",
       "      <td>221</td>\n",
       "      <td>0.983812</td>\n",
       "    </tr>\n",
       "    <tr>\n",
       "      <th>1</th>\n",
       "      <td>17864</td>\n",
       "      <td>253</td>\n",
       "      <td>0.983783</td>\n",
       "    </tr>\n",
       "    <tr>\n",
       "      <th>2</th>\n",
       "      <td>6941</td>\n",
       "      <td>309</td>\n",
       "      <td>0.983785</td>\n",
       "    </tr>\n",
       "    <tr>\n",
       "      <th>3</th>\n",
       "      <td>34089</td>\n",
       "      <td>358</td>\n",
       "      <td>0.983781</td>\n",
       "    </tr>\n",
       "    <tr>\n",
       "      <th>4</th>\n",
       "      <td>21659</td>\n",
       "      <td>536</td>\n",
       "      <td>0.983793</td>\n",
       "    </tr>\n",
       "  </tbody>\n",
       "</table>\n",
       "</div>"
      ],
      "text/plain": [
       "   user_id  item_id      time\n",
       "0     1133      221  0.983812\n",
       "1    17864      253  0.983783\n",
       "2     6941      309  0.983785\n",
       "3    34089      358  0.983781\n",
       "4    21659      536  0.983793"
      ]
     },
     "execution_count": 6,
     "metadata": {},
     "output_type": "execute_result"
    }
   ],
   "source": [
    "df_test.head()"
   ]
  },
  {
   "cell_type": "code",
   "execution_count": 19,
   "metadata": {},
   "outputs": [],
   "source": [
    "df_test_latest_ = df_test.groupby('user_id')['time'].max().reset_index()"
   ]
  },
  {
   "cell_type": "code",
   "execution_count": 20,
   "metadata": {},
   "outputs": [
    {
     "data": {
      "text/html": [
       "<div>\n",
       "<style scoped>\n",
       "    .dataframe tbody tr th:only-of-type {\n",
       "        vertical-align: middle;\n",
       "    }\n",
       "\n",
       "    .dataframe tbody tr th {\n",
       "        vertical-align: top;\n",
       "    }\n",
       "\n",
       "    .dataframe thead th {\n",
       "        text-align: right;\n",
       "    }\n",
       "</style>\n",
       "<table border=\"1\" class=\"dataframe\">\n",
       "  <thead>\n",
       "    <tr style=\"text-align: right;\">\n",
       "      <th></th>\n",
       "      <th>user_id</th>\n",
       "      <th>time</th>\n",
       "    </tr>\n",
       "  </thead>\n",
       "  <tbody>\n",
       "    <tr>\n",
       "      <th>0</th>\n",
       "      <td>11</td>\n",
       "      <td>0.9838685327</td>\n",
       "    </tr>\n",
       "    <tr>\n",
       "      <th>1</th>\n",
       "      <td>22</td>\n",
       "      <td>0.9839563959</td>\n",
       "    </tr>\n",
       "    <tr>\n",
       "      <th>2</th>\n",
       "      <td>44</td>\n",
       "      <td>0.9839020247</td>\n",
       "    </tr>\n",
       "    <tr>\n",
       "      <th>3</th>\n",
       "      <td>55</td>\n",
       "      <td>0.9839383809</td>\n",
       "    </tr>\n",
       "    <tr>\n",
       "      <th>4</th>\n",
       "      <td>66</td>\n",
       "      <td>0.9838954698</td>\n",
       "    </tr>\n",
       "  </tbody>\n",
       "</table>\n",
       "</div>"
      ],
      "text/plain": [
       "   user_id          time\n",
       "0       11  0.9838685327\n",
       "1       22  0.9839563959\n",
       "2       44  0.9839020247\n",
       "3       55  0.9839383809\n",
       "4       66  0.9838954698"
      ]
     },
     "execution_count": 20,
     "metadata": {},
     "output_type": "execute_result"
    }
   ],
   "source": [
    "df_test_latest_.head()"
   ]
  },
  {
   "cell_type": "code",
   "execution_count": 21,
   "metadata": {},
   "outputs": [
    {
     "data": {
      "text/plain": [
       "(1663, 2)"
      ]
     },
     "execution_count": 21,
     "metadata": {},
     "output_type": "execute_result"
    }
   ],
   "source": [
    "df_test_latest_.shape"
   ]
  },
  {
   "cell_type": "markdown",
   "metadata": {},
   "source": [
    "## qtime-with-answer"
   ]
  },
  {
   "cell_type": "code",
   "execution_count": 22,
   "metadata": {},
   "outputs": [],
   "source": [
    "df_test_latest = df_test.merge(df_test_latest_, on=['user_id', 'time'], how='inner')"
   ]
  },
  {
   "cell_type": "code",
   "execution_count": 23,
   "metadata": {},
   "outputs": [
    {
     "data": {
      "text/plain": [
       "(1663, 3)"
      ]
     },
     "execution_count": 23,
     "metadata": {},
     "output_type": "execute_result"
    }
   ],
   "source": [
    "df_test_latest.shape"
   ]
  },
  {
   "cell_type": "code",
   "execution_count": 24,
   "metadata": {},
   "outputs": [
    {
     "data": {
      "text/html": [
       "<div>\n",
       "<style scoped>\n",
       "    .dataframe tbody tr th:only-of-type {\n",
       "        vertical-align: middle;\n",
       "    }\n",
       "\n",
       "    .dataframe tbody tr th {\n",
       "        vertical-align: top;\n",
       "    }\n",
       "\n",
       "    .dataframe thead th {\n",
       "        text-align: right;\n",
       "    }\n",
       "</style>\n",
       "<table border=\"1\" class=\"dataframe\">\n",
       "  <thead>\n",
       "    <tr style=\"text-align: right;\">\n",
       "      <th></th>\n",
       "      <th>user_id</th>\n",
       "      <th>item_id</th>\n",
       "      <th>time</th>\n",
       "    </tr>\n",
       "  </thead>\n",
       "  <tbody>\n",
       "    <tr>\n",
       "      <th>0</th>\n",
       "      <td>24079</td>\n",
       "      <td>1518</td>\n",
       "      <td>0.9838959644</td>\n",
       "    </tr>\n",
       "    <tr>\n",
       "      <th>1</th>\n",
       "      <td>31515</td>\n",
       "      <td>9696</td>\n",
       "      <td>0.9839381235</td>\n",
       "    </tr>\n",
       "    <tr>\n",
       "      <th>2</th>\n",
       "      <td>7612</td>\n",
       "      <td>13702</td>\n",
       "      <td>0.9838836526</td>\n",
       "    </tr>\n",
       "    <tr>\n",
       "      <th>3</th>\n",
       "      <td>5709</td>\n",
       "      <td>19566</td>\n",
       "      <td>0.9838447079</td>\n",
       "    </tr>\n",
       "    <tr>\n",
       "      <th>4</th>\n",
       "      <td>28193</td>\n",
       "      <td>24878</td>\n",
       "      <td>0.9838817189</td>\n",
       "    </tr>\n",
       "  </tbody>\n",
       "</table>\n",
       "</div>"
      ],
      "text/plain": [
       "   user_id  item_id          time\n",
       "0    24079     1518  0.9838959644\n",
       "1    31515     9696  0.9839381235\n",
       "2     7612    13702  0.9838836526\n",
       "3     5709    19566  0.9838447079\n",
       "4    28193    24878  0.9838817189"
      ]
     },
     "execution_count": 24,
     "metadata": {},
     "output_type": "execute_result"
    }
   ],
   "source": [
    "df_test_latest.head()"
   ]
  },
  {
   "cell_type": "code",
   "execution_count": 25,
   "metadata": {},
   "outputs": [
    {
     "data": {
      "text/html": [
       "<div>\n",
       "<style scoped>\n",
       "    .dataframe tbody tr th:only-of-type {\n",
       "        vertical-align: middle;\n",
       "    }\n",
       "\n",
       "    .dataframe tbody tr th {\n",
       "        vertical-align: top;\n",
       "    }\n",
       "\n",
       "    .dataframe thead th {\n",
       "        text-align: right;\n",
       "    }\n",
       "</style>\n",
       "<table border=\"1\" class=\"dataframe\">\n",
       "  <thead>\n",
       "    <tr style=\"text-align: right;\">\n",
       "      <th></th>\n",
       "      <th>user_id</th>\n",
       "      <th>item_id</th>\n",
       "      <th>time</th>\n",
       "    </tr>\n",
       "  </thead>\n",
       "  <tbody>\n",
       "    <tr>\n",
       "      <th>1217</th>\n",
       "      <td>11</td>\n",
       "      <td>8052</td>\n",
       "      <td>0.9838685327</td>\n",
       "    </tr>\n",
       "    <tr>\n",
       "      <th>91</th>\n",
       "      <td>22</td>\n",
       "      <td>101862</td>\n",
       "      <td>0.9839563959</td>\n",
       "    </tr>\n",
       "    <tr>\n",
       "      <th>263</th>\n",
       "      <td>44</td>\n",
       "      <td>25164</td>\n",
       "      <td>0.9839020247</td>\n",
       "    </tr>\n",
       "    <tr>\n",
       "      <th>995</th>\n",
       "      <td>55</td>\n",
       "      <td>51356</td>\n",
       "      <td>0.9839383809</td>\n",
       "    </tr>\n",
       "    <tr>\n",
       "      <th>945</th>\n",
       "      <td>66</td>\n",
       "      <td>43836</td>\n",
       "      <td>0.9838954698</td>\n",
       "    </tr>\n",
       "    <tr>\n",
       "      <th>...</th>\n",
       "      <td>...</td>\n",
       "      <td>...</td>\n",
       "      <td>...</td>\n",
       "    </tr>\n",
       "    <tr>\n",
       "      <th>422</th>\n",
       "      <td>35321</td>\n",
       "      <td>41138</td>\n",
       "      <td>0.9837885115</td>\n",
       "    </tr>\n",
       "    <tr>\n",
       "      <th>62</th>\n",
       "      <td>35343</td>\n",
       "      <td>29609</td>\n",
       "      <td>0.9837481347</td>\n",
       "    </tr>\n",
       "    <tr>\n",
       "      <th>828</th>\n",
       "      <td>35354</td>\n",
       "      <td>19713</td>\n",
       "      <td>0.9839025818</td>\n",
       "    </tr>\n",
       "    <tr>\n",
       "      <th>1655</th>\n",
       "      <td>35365</td>\n",
       "      <td>93864</td>\n",
       "      <td>0.9837867760</td>\n",
       "    </tr>\n",
       "    <tr>\n",
       "      <th>1060</th>\n",
       "      <td>35398</td>\n",
       "      <td>101851</td>\n",
       "      <td>0.9837733690</td>\n",
       "    </tr>\n",
       "  </tbody>\n",
       "</table>\n",
       "<p>1663 rows × 3 columns</p>\n",
       "</div>"
      ],
      "text/plain": [
       "      user_id  item_id          time\n",
       "1217       11     8052  0.9838685327\n",
       "91         22   101862  0.9839563959\n",
       "263        44    25164  0.9839020247\n",
       "995        55    51356  0.9839383809\n",
       "945        66    43836  0.9838954698\n",
       "...       ...      ...           ...\n",
       "422     35321    41138  0.9837885115\n",
       "62      35343    29609  0.9837481347\n",
       "828     35354    19713  0.9839025818\n",
       "1655    35365    93864  0.9837867760\n",
       "1060    35398   101851  0.9837733690\n",
       "\n",
       "[1663 rows x 3 columns]"
      ]
     },
     "execution_count": 25,
     "metadata": {},
     "output_type": "execute_result"
    }
   ],
   "source": [
    "df_test_latest.sort_values('user_id')"
   ]
  },
  {
   "cell_type": "markdown",
   "metadata": {},
   "source": [
    "## test set"
   ]
  },
  {
   "cell_type": "code",
   "execution_count": 37,
   "metadata": {},
   "outputs": [],
   "source": [
    "df_tmp = df_test_latest.copy()\n",
    "df_tmp['remove'] = 'remove'\n",
    "df_test_left = df_test.merge(df_tmp, on=['user_id', 'item_id', 'time'], how='left')"
   ]
  },
  {
   "cell_type": "code",
   "execution_count": 38,
   "metadata": {},
   "outputs": [
    {
     "data": {
      "text/plain": [
       "(21216, 4)"
      ]
     },
     "execution_count": 38,
     "metadata": {},
     "output_type": "execute_result"
    }
   ],
   "source": [
    "df_test_left.shape"
   ]
  },
  {
   "cell_type": "code",
   "execution_count": 39,
   "metadata": {},
   "outputs": [
    {
     "data": {
      "text/html": [
       "<div>\n",
       "<style scoped>\n",
       "    .dataframe tbody tr th:only-of-type {\n",
       "        vertical-align: middle;\n",
       "    }\n",
       "\n",
       "    .dataframe tbody tr th {\n",
       "        vertical-align: top;\n",
       "    }\n",
       "\n",
       "    .dataframe thead th {\n",
       "        text-align: right;\n",
       "    }\n",
       "</style>\n",
       "<table border=\"1\" class=\"dataframe\">\n",
       "  <thead>\n",
       "    <tr style=\"text-align: right;\">\n",
       "      <th></th>\n",
       "      <th>user_id</th>\n",
       "      <th>item_id</th>\n",
       "      <th>time</th>\n",
       "      <th>remove</th>\n",
       "    </tr>\n",
       "  </thead>\n",
       "  <tbody>\n",
       "    <tr>\n",
       "      <th>0</th>\n",
       "      <td>1133</td>\n",
       "      <td>221</td>\n",
       "      <td>0.9838116538</td>\n",
       "      <td>NaN</td>\n",
       "    </tr>\n",
       "    <tr>\n",
       "      <th>1</th>\n",
       "      <td>17864</td>\n",
       "      <td>253</td>\n",
       "      <td>0.9837829610</td>\n",
       "      <td>NaN</td>\n",
       "    </tr>\n",
       "    <tr>\n",
       "      <th>2</th>\n",
       "      <td>6941</td>\n",
       "      <td>309</td>\n",
       "      <td>0.9837845963</td>\n",
       "      <td>NaN</td>\n",
       "    </tr>\n",
       "    <tr>\n",
       "      <th>3</th>\n",
       "      <td>34089</td>\n",
       "      <td>358</td>\n",
       "      <td>0.9837808999</td>\n",
       "      <td>NaN</td>\n",
       "    </tr>\n",
       "    <tr>\n",
       "      <th>4</th>\n",
       "      <td>21659</td>\n",
       "      <td>536</td>\n",
       "      <td>0.9837933069</td>\n",
       "      <td>NaN</td>\n",
       "    </tr>\n",
       "  </tbody>\n",
       "</table>\n",
       "</div>"
      ],
      "text/plain": [
       "   user_id  item_id          time remove\n",
       "0     1133      221  0.9838116538    NaN\n",
       "1    17864      253  0.9837829610    NaN\n",
       "2     6941      309  0.9837845963    NaN\n",
       "3    34089      358  0.9837808999    NaN\n",
       "4    21659      536  0.9837933069    NaN"
      ]
     },
     "execution_count": 39,
     "metadata": {},
     "output_type": "execute_result"
    }
   ],
   "source": [
    "df_test_left.head()"
   ]
  },
  {
   "cell_type": "code",
   "execution_count": 40,
   "metadata": {},
   "outputs": [],
   "source": [
    "df_test_left = df_test_left[df_test_left['remove'] != 'remove'].copy()"
   ]
  },
  {
   "cell_type": "code",
   "execution_count": 45,
   "metadata": {},
   "outputs": [
    {
     "data": {
      "text/plain": [
       "(19553, 3)"
      ]
     },
     "execution_count": 45,
     "metadata": {},
     "output_type": "execute_result"
    }
   ],
   "source": [
    "df_test_left.shape"
   ]
  },
  {
   "cell_type": "code",
   "execution_count": 42,
   "metadata": {},
   "outputs": [
    {
     "data": {
      "text/plain": [
       "19553"
      ]
     },
     "execution_count": 42,
     "metadata": {},
     "output_type": "execute_result"
    }
   ],
   "source": [
    "21216-1663"
   ]
  },
  {
   "cell_type": "code",
   "execution_count": 43,
   "metadata": {},
   "outputs": [],
   "source": [
    "df_test_left.drop(['remove'], axis=1, inplace=True)"
   ]
  },
  {
   "cell_type": "code",
   "execution_count": 44,
   "metadata": {},
   "outputs": [
    {
     "data": {
      "text/html": [
       "<div>\n",
       "<style scoped>\n",
       "    .dataframe tbody tr th:only-of-type {\n",
       "        vertical-align: middle;\n",
       "    }\n",
       "\n",
       "    .dataframe tbody tr th {\n",
       "        vertical-align: top;\n",
       "    }\n",
       "\n",
       "    .dataframe thead th {\n",
       "        text-align: right;\n",
       "    }\n",
       "</style>\n",
       "<table border=\"1\" class=\"dataframe\">\n",
       "  <thead>\n",
       "    <tr style=\"text-align: right;\">\n",
       "      <th></th>\n",
       "      <th>user_id</th>\n",
       "      <th>item_id</th>\n",
       "      <th>time</th>\n",
       "    </tr>\n",
       "  </thead>\n",
       "  <tbody>\n",
       "    <tr>\n",
       "      <th>0</th>\n",
       "      <td>1133</td>\n",
       "      <td>221</td>\n",
       "      <td>0.9838116538</td>\n",
       "    </tr>\n",
       "    <tr>\n",
       "      <th>1</th>\n",
       "      <td>17864</td>\n",
       "      <td>253</td>\n",
       "      <td>0.9837829610</td>\n",
       "    </tr>\n",
       "    <tr>\n",
       "      <th>2</th>\n",
       "      <td>6941</td>\n",
       "      <td>309</td>\n",
       "      <td>0.9837845963</td>\n",
       "    </tr>\n",
       "    <tr>\n",
       "      <th>3</th>\n",
       "      <td>34089</td>\n",
       "      <td>358</td>\n",
       "      <td>0.9837808999</td>\n",
       "    </tr>\n",
       "    <tr>\n",
       "      <th>4</th>\n",
       "      <td>21659</td>\n",
       "      <td>536</td>\n",
       "      <td>0.9837933069</td>\n",
       "    </tr>\n",
       "  </tbody>\n",
       "</table>\n",
       "</div>"
      ],
      "text/plain": [
       "   user_id  item_id          time\n",
       "0     1133      221  0.9838116538\n",
       "1    17864      253  0.9837829610\n",
       "2     6941      309  0.9837845963\n",
       "3    34089      358  0.9837808999\n",
       "4    21659      536  0.9837933069"
      ]
     },
     "execution_count": 44,
     "metadata": {},
     "output_type": "execute_result"
    }
   ],
   "source": [
    "df_test_left.head()"
   ]
  },
  {
   "cell_type": "markdown",
   "metadata": {},
   "source": [
    "## train set"
   ]
  },
  {
   "cell_type": "code",
   "execution_count": 46,
   "metadata": {},
   "outputs": [
    {
     "data": {
      "text/plain": [
       "(241784, 3)"
      ]
     },
     "execution_count": 46,
     "metadata": {},
     "output_type": "execute_result"
    }
   ],
   "source": [
    "df_train.shape"
   ]
  },
  {
   "cell_type": "code",
   "execution_count": 50,
   "metadata": {},
   "outputs": [],
   "source": [
    "df_train_tmp = df_train.merge(df_test_latest[['user_id', 'time']], on=['user_id'], how='left')"
   ]
  },
  {
   "cell_type": "code",
   "execution_count": 51,
   "metadata": {},
   "outputs": [
    {
     "data": {
      "text/plain": [
       "(241784, 4)"
      ]
     },
     "execution_count": 51,
     "metadata": {},
     "output_type": "execute_result"
    }
   ],
   "source": [
    "df_train_tmp.shape"
   ]
  },
  {
   "cell_type": "code",
   "execution_count": 52,
   "metadata": {},
   "outputs": [
    {
     "data": {
      "text/html": [
       "<div>\n",
       "<style scoped>\n",
       "    .dataframe tbody tr th:only-of-type {\n",
       "        vertical-align: middle;\n",
       "    }\n",
       "\n",
       "    .dataframe tbody tr th {\n",
       "        vertical-align: top;\n",
       "    }\n",
       "\n",
       "    .dataframe thead th {\n",
       "        text-align: right;\n",
       "    }\n",
       "</style>\n",
       "<table border=\"1\" class=\"dataframe\">\n",
       "  <thead>\n",
       "    <tr style=\"text-align: right;\">\n",
       "      <th></th>\n",
       "      <th>user_id</th>\n",
       "      <th>item_id</th>\n",
       "      <th>time_x</th>\n",
       "      <th>time_y</th>\n",
       "    </tr>\n",
       "  </thead>\n",
       "  <tbody>\n",
       "    <tr>\n",
       "      <th>0</th>\n",
       "      <td>4965</td>\n",
       "      <td>18</td>\n",
       "      <td>0.9837634760</td>\n",
       "      <td>NaN</td>\n",
       "    </tr>\n",
       "    <tr>\n",
       "      <th>1</th>\n",
       "      <td>20192</td>\n",
       "      <td>34</td>\n",
       "      <td>0.9837723703</td>\n",
       "      <td>NaN</td>\n",
       "    </tr>\n",
       "    <tr>\n",
       "      <th>2</th>\n",
       "      <td>30128</td>\n",
       "      <td>91</td>\n",
       "      <td>0.9837801864</td>\n",
       "      <td>NaN</td>\n",
       "    </tr>\n",
       "    <tr>\n",
       "      <th>3</th>\n",
       "      <td>29473</td>\n",
       "      <td>189</td>\n",
       "      <td>0.9839301484</td>\n",
       "      <td>NaN</td>\n",
       "    </tr>\n",
       "    <tr>\n",
       "      <th>4</th>\n",
       "      <td>10625</td>\n",
       "      <td>225</td>\n",
       "      <td>0.9839253997</td>\n",
       "      <td>NaN</td>\n",
       "    </tr>\n",
       "  </tbody>\n",
       "</table>\n",
       "</div>"
      ],
      "text/plain": [
       "   user_id  item_id        time_x  time_y\n",
       "0     4965       18  0.9837634760     NaN\n",
       "1    20192       34  0.9837723703     NaN\n",
       "2    30128       91  0.9837801864     NaN\n",
       "3    29473      189  0.9839301484     NaN\n",
       "4    10625      225  0.9839253997     NaN"
      ]
     },
     "execution_count": 52,
     "metadata": {},
     "output_type": "execute_result"
    }
   ],
   "source": [
    "df_train_tmp.head()"
   ]
  },
  {
   "cell_type": "code",
   "execution_count": 58,
   "metadata": {},
   "outputs": [],
   "source": [
    "tmp = df_train_tmp.dropna(subset=['time_y'])"
   ]
  },
  {
   "cell_type": "code",
   "execution_count": 64,
   "metadata": {},
   "outputs": [],
   "source": [
    "if tmp.shape[0] != 0:\n",
    "    time_index = tmp['time_x'] > tmp['time_y']\n",
    "    tmp['remove'] = time_index\n",
    "    df_train = tmp[tmp['remove'] == False][['user_id', 'item_id', 'time_x']]\n",
    "    df_train.columns = ['user_id', 'item_id', 'time']"
   ]
  },
  {
   "cell_type": "code",
   "execution_count": null,
   "metadata": {},
   "outputs": [],
   "source": []
  },
  {
   "cell_type": "code",
   "execution_count": null,
   "metadata": {},
   "outputs": [],
   "source": []
  }
 ],
 "metadata": {
  "kernelspec": {
   "display_name": "Python 3.6.8 64-bit ('ML': conda)",
   "language": "python",
   "name": "python36864bitmlconda22b001fe9e6340f59031359cb65c132c"
  },
  "language_info": {
   "codemirror_mode": {
    "name": "ipython",
    "version": 3
   },
   "file_extension": ".py",
   "mimetype": "text/x-python",
   "name": "python",
   "nbconvert_exporter": "python",
   "pygments_lexer": "ipython3",
   "version": "3.6.8-final"
  }
 },
 "nbformat": 4,
 "nbformat_minor": 4
}